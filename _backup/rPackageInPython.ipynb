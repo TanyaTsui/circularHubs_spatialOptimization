{
 "cells": [
  {
   "cell_type": "markdown",
   "id": "0306336f-f478-4d6d-89d5-a7ab949fb1e4",
   "metadata": {},
   "source": [
    "# Using r packages in python"
   ]
  },
  {
   "cell_type": "code",
   "execution_count": 6,
   "id": "6f4e9d7d-d4d3-4de8-8be7-6b882a517d99",
   "metadata": {},
   "outputs": [],
   "source": [
    "# ensure that conda can find the right R path\n",
    "import os\n",
    "os.environ['R_HOME'] = 'C:/Users/tpytsui/Miniconda/envs/R/lib/R'\n",
    "\n",
    "# These will let us use R packages:\n",
    "from rpy2.robjects.packages import importr\n",
    "from rpy2.robjects import pandas2ri\n",
    "\n",
    "# Convert pandas.DataFrames to R dataframes automatically.\n",
    "pandas2ri.activate()"
   ]
  },
  {
   "cell_type": "code",
   "execution_count": 9,
   "id": "a0ed294c-c497-4a72-a335-69931c9749a5",
   "metadata": {},
   "outputs": [
    {
     "ename": "PackageNotInstalledError",
     "evalue": "The R package \"intamapInteractive\" is not installed.",
     "output_type": "error",
     "traceback": [
      "\u001b[1;31m---------------------------------------------------------------------------\u001b[0m",
      "\u001b[1;31mPackageNotInstalledError\u001b[0m                  Traceback (most recent call last)",
      "\u001b[1;32m<ipython-input-9-aedb247f1011>\u001b[0m in \u001b[0;36m<module>\u001b[1;34m\u001b[0m\n\u001b[1;32m----> 1\u001b[1;33m \u001b[0mintamap\u001b[0m \u001b[1;33m=\u001b[0m \u001b[0mimportr\u001b[0m\u001b[1;33m(\u001b[0m\u001b[1;34m'intamapInteractive'\u001b[0m\u001b[1;33m)\u001b[0m\u001b[1;33m\u001b[0m\u001b[1;33m\u001b[0m\u001b[0m\n\u001b[0m",
      "\u001b[1;32m~\\Miniconda\\envs\\R\\lib\\site-packages\\rpy2\\robjects\\packages.py\u001b[0m in \u001b[0;36mimportr\u001b[1;34m(name, lib_loc, robject_translations, signature_translation, suppress_messages, on_conflict, symbol_r2python, symbol_resolve, data)\u001b[0m\n\u001b[0;32m    470\u001b[0m     \u001b[1;32mif\u001b[0m \u001b[1;32mnot\u001b[0m \u001b[0misinstalled\u001b[0m\u001b[1;33m(\u001b[0m\u001b[0mname\u001b[0m\u001b[1;33m,\u001b[0m \u001b[0mlib_loc\u001b[0m\u001b[1;33m=\u001b[0m\u001b[0mlib_loc\u001b[0m\u001b[1;33m)\u001b[0m\u001b[1;33m:\u001b[0m\u001b[1;33m\u001b[0m\u001b[1;33m\u001b[0m\u001b[0m\n\u001b[0;32m    471\u001b[0m         raise PackageNotInstalledError(\n\u001b[1;32m--> 472\u001b[1;33m             \u001b[1;34m'The R package \"%s\" is not installed.'\u001b[0m \u001b[1;33m%\u001b[0m \u001b[0mname\u001b[0m\u001b[1;33m\u001b[0m\u001b[1;33m\u001b[0m\u001b[0m\n\u001b[0m\u001b[0;32m    473\u001b[0m         )\n\u001b[0;32m    474\u001b[0m \u001b[1;33m\u001b[0m\u001b[0m\n",
      "\u001b[1;31mPackageNotInstalledError\u001b[0m: The R package \"intamapInteractive\" is not installed."
     ]
    }
   ],
   "source": [
    "intamap = importr('intamapInteractive')"
   ]
  },
  {
   "cell_type": "code",
   "execution_count": null,
   "id": "10437a96-a948-4afe-8856-0be7d44d3a10",
   "metadata": {},
   "outputs": [],
   "source": []
  },
  {
   "cell_type": "code",
   "execution_count": null,
   "id": "656e6173-a070-4c1e-89e5-a02b05d44ad8",
   "metadata": {},
   "outputs": [],
   "source": []
  }
 ],
 "metadata": {
  "kernelspec": {
   "display_name": "Python 3",
   "language": "python",
   "name": "python3"
  },
  "language_info": {
   "codemirror_mode": {
    "name": "ipython",
    "version": 3
   },
   "file_extension": ".py",
   "mimetype": "text/x-python",
   "name": "python",
   "nbconvert_exporter": "python",
   "pygments_lexer": "ipython3",
   "version": "3.6.15"
  }
 },
 "nbformat": 4,
 "nbformat_minor": 5
}
