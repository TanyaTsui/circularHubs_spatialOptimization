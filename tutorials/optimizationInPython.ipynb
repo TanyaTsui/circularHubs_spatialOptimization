{
 "cells": [
  {
   "cell_type": "markdown",
   "id": "e0205947-00b1-4792-a15a-b65b7defcdb2",
   "metadata": {},
   "source": [
    "# Learning the basics of optimization \n",
    "We are just talking about optimization here, not spatial optimization yet. \n",
    "* YouTube video: [SciPy Beginner's guide for optimization](https://www.youtube.com/watch?v=cXHvC_FGx24&ab_channel=APMonitor.com)"
   ]
  },
  {
   "cell_type": "code",
   "execution_count": 1,
   "id": "cf39e5cc-4df1-4a41-b861-27ccdb510206",
   "metadata": {},
   "outputs": [],
   "source": [
    "import numpy as np\n",
    "from scipy.optimize import minimize "
   ]
  },
  {
   "cell_type": "code",
   "execution_count": 9,
   "id": "cee8b4cc-4cd1-48cc-b92b-15ad693f5db4",
   "metadata": {},
   "outputs": [],
   "source": [
    "# set objective function\n",
    "def objective(x): \n",
    "    # x is a list of values.\n",
    "    # in our case, the list will represent all potential hub locations. The value will be either 0 (not chosen) or 1 (chosen)\n",
    "    x1 = x[0]\n",
    "    x2 = x[1] \n",
    "    x3 = x[2]\n",
    "    x4 = x[3]\n",
    "    return x1*x4*(x1+x2+x3)+x3"
   ]
  },
  {
   "cell_type": "code",
   "execution_count": 3,
   "id": "7f4d9375-3da2-4589-9bd4-d52da5b8a4cb",
   "metadata": {},
   "outputs": [],
   "source": [
    "def constraint1(x): \n",
    "    return x[0]*x[1]*x[2]*x[3]-25.0\n",
    "def constraint2(x): \n",
    "    sum_sq = 40 \n",
    "    for i in range(4): \n",
    "        sum_sq = sum_sq - x[i]**2 \n",
    "    return sum_sq"
   ]
  },
  {
   "cell_type": "code",
   "execution_count": 4,
   "id": "f6c4a0c9-8e3b-4566-a50b-e75c8f77e1f3",
   "metadata": {},
   "outputs": [
    {
     "data": {
      "text/plain": [
       "16"
      ]
     },
     "execution_count": 4,
     "metadata": {},
     "output_type": "execute_result"
    }
   ],
   "source": [
    "x0 = [1,5,5,1]\n",
    "objective(x0)"
   ]
  },
  {
   "cell_type": "code",
   "execution_count": 5,
   "id": "ee593cfd-3014-4b9a-97eb-957dc2a227f0",
   "metadata": {},
   "outputs": [],
   "source": [
    "b = (1,5)\n",
    "bnds = (b,b,b,b)\n",
    "con1 = {'type': 'ineq', 'fun': constraint1}\n",
    "con2 = {'type': 'eq', 'fun': constraint2}\n",
    "cons = [con1, con2]"
   ]
  },
  {
   "cell_type": "code",
   "execution_count": 6,
   "id": "f697bb80-ecbe-4635-94ae-2336f350f572",
   "metadata": {},
   "outputs": [],
   "source": [
    "sol = minimize(objective, x0, method='SLSQP', bounds=bnds, constraints=cons)"
   ]
  },
  {
   "cell_type": "code",
   "execution_count": 7,
   "id": "bbaaeec6-02a8-4302-9203-b16b7bf6c8c9",
   "metadata": {},
   "outputs": [
    {
     "data": {
      "text/plain": [
       "     fun: 17.01401724563517\n",
       "     jac: array([14.57227015,  1.37940764,  2.37940764,  9.56415057])\n",
       " message: 'Optimization terminated successfully'\n",
       "    nfev: 25\n",
       "     nit: 5\n",
       "    njev: 5\n",
       "  status: 0\n",
       " success: True\n",
       "       x: array([1.        , 4.7429961 , 3.82115462, 1.37940765])"
      ]
     },
     "execution_count": 7,
     "metadata": {},
     "output_type": "execute_result"
    }
   ],
   "source": [
    "sol"
   ]
  },
  {
   "cell_type": "markdown",
   "id": "93d9e42f-40bd-45e5-8e4f-25921540abfa",
   "metadata": {
    "tags": []
   },
   "source": [
    "## Adapting tutorial code to circular hub optimization\n",
    "Let's try using a very simple example - optimizing the location of just **1** hub, choosing between only **3** candidate locations. "
   ]
  },
  {
   "cell_type": "code",
   "execution_count": 1,
   "id": "e9d36c18-6f41-49e5-a2ce-6bffb59daf6f",
   "metadata": {},
   "outputs": [],
   "source": [
    "import pandas as pd\n",
    "import momepy\n",
    "import geopandas as gpd\n",
    "import osmnx as ox\n",
    "import matplotlib.pyplot as plt\n",
    "import networkx as nx\n",
    "from pyrosm import OSM, get_data\n",
    "from shapely.geometry import Point, Polygon\n",
    "from shapely.ops import nearest_points\n",
    "import numpy as np\n",
    "import shapely\n",
    "import plotly.express as px\n",
    "import time\n",
    "import libpysal\n",
    "from libpysal.weights import Queen, Rook, KNN, DistanceBand\n",
    "import esda\n",
    "import math\n",
    "pd.options.mode.chained_assignment = None  # default='warn'"
   ]
  },
  {
   "cell_type": "markdown",
   "id": "b75fcb53-db5b-4916-86e9-d588ab989f84",
   "metadata": {},
   "source": [
    "### reading data"
   ]
  },
  {
   "cell_type": "code",
   "execution_count": 6,
   "id": "e91cecf3-387d-4e6f-907f-59dffb560883",
   "metadata": {},
   "outputs": [],
   "source": [
    "# (simplified) road network \n",
    "df = pd.read_csv('../data/ams_roads_filtered.osm-simplified.csv', sep=';')\n",
    "df = gpd.GeoDataFrame(df)\n",
    "df['geometry'] = gpd.GeoSeries.from_wkt(df.wkt)\n",
    "df.drop(columns='wkt', inplace=True)\n",
    "df = df.set_crs('EPSG:4326')\n",
    "df = df.to_crs('EPSG:28992')\n",
    "\n",
    "# road gdf to network graph \n",
    "streets = df.copy()\n",
    "graph = momepy.gdf_to_nx(streets, approach='primal')\n",
    "for component in list(nx.connected_components(graph)):\n",
    "    if len(component)<3:\n",
    "        for node in component:\n",
    "            graph.remove_node(node)\n",
    "\n",
    "# graph to gdf of nodes and edges \n",
    "nodes, edges, sw = momepy.nx_to_gdf(graph, points=True, lines=True,\n",
    "                                    spatial_weights=True)\n",
    "nodesAll = nodes.geometry.unary_union"
   ]
  },
  {
   "cell_type": "code",
   "execution_count": 8,
   "id": "ab7df0b1-0641-4502-bb5f-6bd5a354b070",
   "metadata": {},
   "outputs": [],
   "source": [
    "# land price\n",
    "cbsFile = gpd.read_file('../../_bigData/cbs_popData/CBS_pc4_2020_v1.shp')\n",
    "cbs = cbsFile.copy()\n",
    "cbs = cbs[['WOZWONING', 'geometry']]\n",
    "cbs.rename(columns={'WOZWONING': 'housePrice'}, inplace=True)\n",
    "cbs.housePrice = cbs.housePrice * 1000"
   ]
  },
  {
   "cell_type": "code",
   "execution_count": 3,
   "id": "81f409df-01ed-4269-9efe-7b5da0e2f38a",
   "metadata": {},
   "outputs": [
    {
     "ename": "NameError",
     "evalue": "name 'edges' is not defined",
     "output_type": "error",
     "traceback": [
      "\u001b[1;31m---------------------------------------------------------------------------\u001b[0m",
      "\u001b[1;31mNameError\u001b[0m                                 Traceback (most recent call last)",
      "Input \u001b[1;32mIn [3]\u001b[0m, in \u001b[0;36m<module>\u001b[1;34m\u001b[0m\n\u001b[0;32m      1\u001b[0m \u001b[38;5;66;03m# gdf of supply of secondary resources \u001b[39;00m\n\u001b[0;32m      2\u001b[0m supply \u001b[38;5;241m=\u001b[39m gpd\u001b[38;5;241m.\u001b[39mread_file(\u001b[38;5;124m'\u001b[39m\u001b[38;5;124m../../_bigData/pblUrbanMiningModels/shpsCleaned/supply_NL.shp\u001b[39m\u001b[38;5;124m'\u001b[39m)\n\u001b[1;32m----> 3\u001b[0m xmin, ymin, xmax, ymax \u001b[38;5;241m=\u001b[39m \u001b[43medges\u001b[49m\u001b[38;5;241m.\u001b[39mtotal_bounds\n\u001b[0;32m      4\u001b[0m supply \u001b[38;5;241m=\u001b[39m supply\u001b[38;5;241m.\u001b[39mcx[xmin:xmax, ymin:ymax]\n\u001b[0;32m      5\u001b[0m supply \u001b[38;5;241m=\u001b[39m supply\u001b[38;5;241m.\u001b[39mreset_index(drop\u001b[38;5;241m=\u001b[39m\u001b[38;5;28;01mTrue\u001b[39;00m)\n",
      "\u001b[1;31mNameError\u001b[0m: name 'edges' is not defined"
     ]
    }
   ],
   "source": [
    "# gdf of supply of secondary resources \n",
    "supply = gpd.read_file('../../_bigData/pblUrbanMiningModels/shpsCleaned/supply_NL.shp')\n",
    "xmin, ymin, xmax, ymax = edges.total_bounds\n",
    "supply = supply.cx[xmin:xmax, ymin:ymax]\n",
    "supply = supply.reset_index(drop=True)\n",
    "supplyMelt = pd.melt(supply, id_vars=['id', 'geometry'], \n",
    "        value_vars=['steel', 'copper', 'aluminium', 'wood', 'concrete', \n",
    "                    'brick', 'glass', 'ceramic', 'plastic', 'insulat'])\n",
    "supplyMelt.rename(columns={'variable': 'material', 'value': 'kg'}, inplace=True)\n",
    "\n",
    "# gdf of demand for secondary resources\n",
    "demand = gpd.read_file('../../_bigData/pblUrbanMiningModels/shpsCleaned/demand_NL.shp')\n",
    "xmin, ymin, xmax, ymax = edges.total_bounds\n",
    "demand = demand.cx[xmin:xmax, ymin:ymax]\n",
    "demand = demand.reset_index(drop=True)\n",
    "demandMelt = pd.melt(demand, id_vars=['id', 'geometry'], \n",
    "        value_vars=['aluminium', 'brick', 'concrete', 'bitumen', 'electronic', \n",
    "                    'gypsum', 'glass', 'wood', 'insulat', 'lime', 'ceramic', 'copper',\n",
    "                    'plastic', 'glue', 'mortar', 'paper', 'steel', 'stone', 'sand'])\n",
    "demandMelt.rename(columns={'variable': 'material', 'value': 'kg'}, inplace=True)"
   ]
  },
  {
   "cell_type": "code",
   "execution_count": null,
   "id": "117283fb-a5ec-4173-b976-ad98e3c07f14",
   "metadata": {},
   "outputs": [],
   "source": [
    "def makeGrid(cell_size, edges, buffer, plot=False): \n",
    "    # cell_size = 500\n",
    "    # create square grid over NL according to cell size\n",
    "    xmin, ymin, xmax, ymax = edges.total_bounds\n",
    "    crs = \"EPSG:28992\"\n",
    "    grid_cells = []\n",
    "    for x0 in np.arange(xmin, xmax+cell_size, cell_size):\n",
    "        for y0 in np.arange(ymin, ymax+cell_size, cell_size):\n",
    "            # bounds\n",
    "            x1 = x0-cell_size\n",
    "            y1 = y0+cell_size\n",
    "            grid_cells.append(shapely.geometry.box(x0, y0, x1, y1))\n",
    "    cell = gpd.GeoDataFrame(grid_cells, columns=['geometry'], crs=crs)\n",
    "\n",
    "    # cut square grid into shape \n",
    "    buffer = buffer\n",
    "    boundary = gpd.GeoDataFrame(edges.geometry.buffer(buffer), geometry=0, crs=crs).rename(columns={0: 'geometry'})\n",
    "    mergeIndex = gpd.sjoin(boundary, cell, how='left', op='intersects').index_right.unique()\n",
    "    grid = cell.loc[mergeIndex]\n",
    "    grid = grid.reset_index(drop=True).reset_index()\n",
    "    \n",
    "    # make spatial weights matrix \n",
    "    points = list(grid.apply(lambda row: (row.geometry.centroid.x, row.geometry.centroid.y), axis=1))\n",
    "    threshold = math.ceil(math.sqrt((cell_size**2)*2))\n",
    "    wd = libpysal.weights.DistanceBand(points ,threshold=threshold, binary=False)\n",
    "    wd.transform = 'r'\n",
    "    \n",
    "    if plot: \n",
    "        fig, ax = plt.subplots(1,1,figsize=(10,10))\n",
    "        # nodes.plot(ax=ax, color='grey')\n",
    "        edges.plot(ax=ax, color='lightgrey')\n",
    "        grid.boundary.plot(ax=ax, color='grey')\n",
    "        ax.axis('off')\n",
    "        ax.set_title('make grid according to road network')\n",
    "        plt.show()\n",
    "    \n",
    "    return grid, wd\n",
    "\n",
    "def get_buffer(in_data, buff=50):\n",
    "    b1 = in_data.buffer(buff)  # Buffer\n",
    "    ub = b1.unary_union  # Buffer Union\n",
    "    b2 = gpd.GeoSeries(ub)\n",
    "    out_data = gpd.GeoDataFrame(b2, crs=in_data.crs, columns=[\"geometry\"])\n",
    "    return out_data"
   ]
  },
  {
   "cell_type": "code",
   "execution_count": null,
   "id": "c2d96533-6df7-447b-be23-7e4feaccf026",
   "metadata": {},
   "outputs": [],
   "source": [
    "buff = 1000\n",
    "streets_buffer = get_buffer(streets, buff=buff)\n",
    "grid, wd = makeGrid(2000, streets, buff)\n",
    "grid.geometry = grid.geometry.centroid"
   ]
  },
  {
   "cell_type": "code",
   "execution_count": null,
   "id": "8edd66fc-fd11-4f31-b91d-6196e08120d0",
   "metadata": {},
   "outputs": [],
   "source": [
    "clients, wd = makeGrid(2000, streets, 1000)\n",
    "clients['totKgSupply'] = clients.geometry.map(lambda x: supply[supply.geometry.within(x)].totKg.sum())\n",
    "clients['totKgDemand'] = clients.geometry.map(lambda x: demand[demand.geometry.within(x)].totKg.sum())\n",
    "clients['housePrice'] = clients.geometry.map(lambda x: cbs[cbs.geometry.intersects(x)].housePrice.mean())\n",
    "clients.geometry = clients.geometry.centroid"
   ]
  },
  {
   "cell_type": "code",
   "execution_count": null,
   "id": "b763de32-4990-4303-87e7-7e993c91dc7f",
   "metadata": {},
   "outputs": [],
   "source": [
    "clients.head()"
   ]
  },
  {
   "cell_type": "code",
   "execution_count": null,
   "id": "82bcb9d6-98d0-43a5-8c27-3e2e19e670bf",
   "metadata": {},
   "outputs": [],
   "source": [
    "facilities = grid.sample(3, random_state=1).reset_index(drop=True)\n",
    "facilities['chosen'] = 0\n",
    "facilities = facilities[['chosen', 'geometry']]\n",
    "facilities"
   ]
  },
  {
   "cell_type": "code",
   "execution_count": null,
   "id": "ee5b894e-f591-4692-8fd2-d93ffdba630e",
   "metadata": {},
   "outputs": [],
   "source": [
    "ax = clients.plot(markersize=clients.totKgSupply / 1000000, color='lightgrey', figsize=(8,8), alpha=0.5)\n",
    "streets.plot(ax=ax, color='grey')\n",
    "facilities.plot(ax=ax, color='black', marker='*', markersize=500)"
   ]
  },
  {
   "cell_type": "code",
   "execution_count": null,
   "id": "df89d32d-ada0-433f-aa72-a820a6620acd",
   "metadata": {},
   "outputs": [],
   "source": [
    "x0 = [1,0,0]\n",
    "fac = facilities.copy() \n",
    "fac.chosen = x0\n",
    "fac = fac[fac.chosen == 1]"
   ]
  },
  {
   "cell_type": "code",
   "execution_count": null,
   "id": "ebcecb34-3e05-4fc5-afb4-b7fac3c378da",
   "metadata": {},
   "outputs": [],
   "source": [
    "fac"
   ]
  },
  {
   "cell_type": "code",
   "execution_count": null,
   "id": "40e41d27-c38e-4999-8503-87381370eddc",
   "metadata": {},
   "outputs": [],
   "source": [
    "clients.head()"
   ]
  },
  {
   "cell_type": "code",
   "execution_count": null,
   "id": "686e4188-469a-4d74-bcd1-5dcb1e6328b5",
   "metadata": {},
   "outputs": [],
   "source": [
    "def objective(x0): \n",
    "    # x = list of open / close for hubs = [1,0,0]\n",
    "    \n",
    "    # identify chosen facility \n",
    "    fac = facilities.copy() \n",
    "    fac.chosen = x0\n",
    "    fac = fac[fac.chosen == 1]\n",
    "    \n",
    "    # calculate co2 reduction \n",
    "    co2Emissions = 50 # dummy number\n",
    "    totSupply = clients.totKgSupply.sum()\n",
    "    totDemand = clients.totKgDemand.sum()\n",
    "    matKgStored = totSupply if totDemand > totSupply else totDemand\n",
    "    co2Reduction = co2Emissions * matKgStored\n",
    "    \n",
    "    # calculate storage cost \n",
    "    landPrice = clients.loc[clients.distance(fac.geometry[0]).idxmax()].housePrice\n",
    "    storageCoef = 50 # dummy \n",
    "    storageCost = landPrice * storageCoef * matKgStored\n",
    "    \n",
    "    # calculate transportation cost\n",
    "    transPriceCoef = 50 # dummy \n",
    "    clientsDemand = clients[clients.totKgDemand > 0]\n",
    "    clientsSupply = clients[clients.totKgSupply > 0]\n",
    "    totDistSupply = clientsSupply.distance(fac.geometry[0]).sum() # is currently euclidean distance, need to take into account street network\n",
    "    matKgSupply = clients.totKgSupply.sum() # is currently just sum of totKgSupply, without taking into account each trip \n",
    "    totDistDemand = clientsDemand.distance(fac.geometry[0]).sum()\n",
    "    matKgDemand = clients.totKgDemand.sum()\n",
    "    transportationCost = transPriceCoef * (totDistSupply * matKgSupply + totDistDemand * matKgDemand)\n",
    "       \n",
    "    # calculate transportation emissions \n",
    "    transEmissionsCoef = 50 # dummy \n",
    "    transportationEmissions = transEmissionsCoef * (totDistSupply * matKgSupply + totDistDemand * matKgDemand)\n",
    "    \n",
    "    # calculate cost effectiveness \n",
    "    costEffectiveness = (storageCost + transportationCost) / (co2Reduction - transportationEmissions)\n",
    "    \n",
    "    return costEffectiveness"
   ]
  },
  {
   "cell_type": "code",
   "execution_count": 4,
   "id": "4ddb61ad-aff8-402f-a32d-d405dd19362f",
   "metadata": {},
   "outputs": [],
   "source": [
    "# def constraint1(x): \n",
    "#     return x[0]*x[1]*x[2]*x[3]-25.0\n",
    "# def constraint2(x): \n",
    "#     sum_sq = 40 \n",
    "#     for i in range(4): \n",
    "#         sum_sq = sum_sq - x[i]**2 \n",
    "#     return sum_sq"
   ]
  },
  {
   "cell_type": "code",
   "execution_count": 5,
   "id": "3ae18c9b-ab55-4631-b2e1-98ea4d19df9a",
   "metadata": {},
   "outputs": [],
   "source": [
    "# b = (1,5)\n",
    "# bnds = (b,b,b,b)\n",
    "# con1 = {'type': 'ineq', 'fun': constraint1}\n",
    "# con2 = {'type': 'eq', 'fun': constraint2}\n",
    "# cons = [con1, con2]"
   ]
  },
  {
   "cell_type": "code",
   "execution_count": null,
   "id": "b254735a-7898-4ccd-ab4e-0110b91c640e",
   "metadata": {},
   "outputs": [],
   "source": [
    "import numpy as np\n",
    "from scipy.optimize import minimize "
   ]
  },
  {
   "cell_type": "markdown",
   "id": "8206de33-7918-4095-bcc6-6bf180c67cd9",
   "metadata": {},
   "source": [
    "The objective is the function that we are trying to optimize. For our case, it will be the cost effectiveness function which calculates the euro/tCO2eq for each potential scenario."
   ]
  },
  {
   "cell_type": "markdown",
   "id": "06b85ff3-2239-4f26-bac4-ef0acbb0040a",
   "metadata": {},
   "source": [
    "The constraints are the conditions that have to be met by the variables. For our case, this will be "
   ]
  },
  {
   "cell_type": "code",
   "execution_count": 157,
   "id": "9a39c5e0-def1-4cd4-8822-b8b886cc4ab1",
   "metadata": {},
   "outputs": [
    {
     "data": {
      "text/plain": [
       "-1.0164533941551748"
      ]
     },
     "execution_count": 157,
     "metadata": {},
     "output_type": "execute_result"
    }
   ],
   "source": [
    "x0 = [1,0,0]\n",
    "objective(x0)"
   ]
  },
  {
   "cell_type": "code",
   "execution_count": 6,
   "id": "aaa1b4e6-88d7-4e09-a995-2898a2112047",
   "metadata": {},
   "outputs": [],
   "source": [
    "sol = minimize(objective, x0, method='SLSQP', bounds=bnds, constraints=cons)"
   ]
  },
  {
   "cell_type": "code",
   "execution_count": 7,
   "id": "f3d1bc6d-0606-4fb2-a58a-13f162a3defe",
   "metadata": {},
   "outputs": [
    {
     "data": {
      "text/plain": [
       "     fun: 17.01401724563517\n",
       "     jac: array([14.57227015,  1.37940764,  2.37940764,  9.56415057])\n",
       " message: 'Optimization terminated successfully'\n",
       "    nfev: 25\n",
       "     nit: 5\n",
       "    njev: 5\n",
       "  status: 0\n",
       " success: True\n",
       "       x: array([1.        , 4.7429961 , 3.82115462, 1.37940765])"
      ]
     },
     "execution_count": 7,
     "metadata": {},
     "output_type": "execute_result"
    }
   ],
   "source": [
    "sol"
   ]
  },
  {
   "cell_type": "code",
   "execution_count": null,
   "id": "a1b43c13-5a26-4f64-a378-cb4b9c3fb322",
   "metadata": {},
   "outputs": [],
   "source": []
  }
 ],
 "metadata": {
  "kernelspec": {
   "display_name": "Python 3 (ipykernel)",
   "language": "python",
   "name": "python3"
  },
  "language_info": {
   "codemirror_mode": {
    "name": "ipython",
    "version": 3
   },
   "file_extension": ".py",
   "mimetype": "text/x-python",
   "name": "python",
   "nbconvert_exporter": "python",
   "pygments_lexer": "ipython3",
   "version": "3.9.10"
  }
 },
 "nbformat": 4,
 "nbformat_minor": 5
}
