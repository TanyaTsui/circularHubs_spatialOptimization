{
 "cells": [
  {
   "cell_type": "markdown",
   "id": "19f66b17-5b2f-44ea-963e-8647b5e4887c",
   "metadata": {},
   "source": [
    "# First guesses for hub locations \n",
    "For n hubs ranging from 1 - 50, find first guesses for hub locations using k-means clustering"
   ]
  },
  {
   "cell_type": "code",
   "execution_count": 7,
   "id": "310696ee-e1ea-41f0-976e-855769595895",
   "metadata": {},
   "outputs": [],
   "source": [
    "# import modules\n",
    "import geopandas as gpd \n",
    "import pandas as pd \n",
    "import numpy as np\n",
    "from sklearn.cluster import KMeans "
   ]
  },
  {
   "cell_type": "code",
   "execution_count": 32,
   "id": "055a981a-7891-4fd3-a793-fa1ac6b928f0",
   "metadata": {},
   "outputs": [],
   "source": [
    "# read infoGrid\n",
    "infoGridFile = gpd.read_file('data/infoGrid_ams.shp')\n",
    "candiInfoFile = gpd.read_file('data/candiInfo_ams.shp')"
   ]
  },
  {
   "cell_type": "code",
   "execution_count": 92,
   "id": "0e489f17-5ac0-4338-8f08-11ce150f2094",
   "metadata": {},
   "outputs": [],
   "source": [
    "# define function for k-means clustering of infoGrid, with nHubs as input\n",
    "def findCentroids(n_clusters): \n",
    "    # prep kMeans input \n",
    "    infoGrid = infoGridFile.copy()\n",
    "    infoGrid['x'] = infoGrid.geometry.x\n",
    "    infoGrid['y'] = infoGrid.geometry.y\n",
    "    X = np.array(infoGrid[['x', 'y']])\n",
    "\n",
    "    # run kmeans \n",
    "    kmeans = KMeans(n_clusters=n_clusters, random_state=0).fit(X)\n",
    "    infoGrid['cluster'] = kmeans.labels_\n",
    "\n",
    "    # find centroid for each cluster and closest candiInfo point \n",
    "    candiInfo = candiInfoFile.copy()\n",
    "    clusterNums = list(infoGrid.cluster.unique())\n",
    "    candiIndexes = []\n",
    "    for clusterNum in clusterNums: \n",
    "        \n",
    "        # find centroid \n",
    "        clusterGdf = infoGrid[infoGrid.cluster == clusterNum]\n",
    "        clusterCentroid = clusterGdf.dissolve().centroid\n",
    "\n",
    "        # find closest candiInfo point\n",
    "        candiIndex = candiInfo.geometry.sindex.nearest(clusterCentroid)[1,0]\n",
    "        candiIndexes.append(candiIndex)\n",
    "    \n",
    "    return candiIndexes"
   ]
  },
  {
   "cell_type": "code",
   "execution_count": 99,
   "id": "632f777e-2f4a-4330-8c44-6c88be6cabe5",
   "metadata": {},
   "outputs": [
    {
     "name": "stdout",
     "output_type": "stream",
     "text": [
      "CPU times: total: 2min 1s\n",
      "Wall time: 21.6 s\n"
     ]
    }
   ],
   "source": [
    "%%time\n",
    "# run function for n hubs ranging from 1 - 50\n",
    "candiDict = {}\n",
    "for i in range(1, 50): \n",
    "    candiIndexes = findCentroids(i)\n",
    "    candiDict[i] = candiIndexes \n",
    "firstGuessesDf = pd.DataFrame({'nHubs': candiDict.keys(), 'candiIndexes': candiDict.values()})"
   ]
  },
  {
   "cell_type": "code",
   "execution_count": 126,
   "id": "e32e3291-677f-4101-ac68-3144ea546db4",
   "metadata": {},
   "outputs": [],
   "source": [
    "# save file\n",
    "firstGuessesDf_r = firstGuessesDf.copy()\n",
    "def plusOne(l): \n",
    "    return [i + 1 for i in l]\n",
    "firstGuessesDf_r.candiIndexes = firstGuessesDf_r.candiIndexes.map(lambda l: plusOne(l))\n",
    "firstGuessesDf_r.candiIndexes = firstGuessesDf_r.candiIndexes.map(lambda l: ','.join([str(i) for i in l]))\n",
    "firstGuessesDf_r.to_csv('data/firstGuesses_ams.csv')"
   ]
  },
  {
   "cell_type": "code",
   "execution_count": null,
   "id": "a027d2c5-899e-4ac9-b298-c2923fb3eb1f",
   "metadata": {},
   "outputs": [],
   "source": []
  }
 ],
 "metadata": {
  "kernelspec": {
   "display_name": "Python 3 (ipykernel)",
   "language": "python",
   "name": "python3"
  },
  "language_info": {
   "codemirror_mode": {
    "name": "ipython",
    "version": 3
   },
   "file_extension": ".py",
   "mimetype": "text/x-python",
   "name": "python",
   "nbconvert_exporter": "python",
   "pygments_lexer": "ipython3",
   "version": "3.11.0"
  }
 },
 "nbformat": 4,
 "nbformat_minor": 5
}
